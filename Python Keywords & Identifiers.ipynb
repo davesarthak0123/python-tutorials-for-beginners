{
 "cells": [
  {
   "cell_type": "markdown",
   "id": "c9f5e892",
   "metadata": {},
   "source": [
    "## Keywords In Python"
   ]
  },
  {
   "cell_type": "raw",
   "id": "8db29c86",
   "metadata": {},
   "source": [
    "Python has a set of keywords which are basically the reserved words. \n",
    "Python Keywords cant be used as variable names, function names or any other identifiers\n",
    "Keywords are case-sensitive"
   ]
  },
  {
   "cell_type": "code",
   "execution_count": 11,
   "id": "c336a919",
   "metadata": {},
   "outputs": [
    {
     "name": "stdout",
     "output_type": "stream",
     "text": [
      "['False', 'None', 'True', 'and', 'as', 'assert', 'async', 'await', 'break', 'class', 'continue', 'def', 'del', 'elif', 'else', 'except', 'finally', 'for', 'from', 'global', 'if', 'import', 'in', 'is', 'lambda', 'nonlocal', 'not', 'or', 'pass', 'raise', 'return', 'try', 'while', 'with', 'yield']\n",
      "\n",
      " Total number of keywords:  35\n"
     ]
    }
   ],
   "source": [
    "# Below code prints all the keywords available in python\n",
    "\n",
    "import keyword\n",
    "\n",
    "# Lists all the keywords available in python\n",
    "print(keyword.kwlist) \n",
    "\n",
    "# prints the length of all the keywords available\n",
    "print(\"\\n Total number of keywords: \",len(keyword.kwlist))"
   ]
  },
  {
   "cell_type": "markdown",
   "id": "d615d360",
   "metadata": {},
   "source": [
    "  ## Identifiers"
   ]
  },
  {
   "cell_type": "raw",
   "id": "54031b51",
   "metadata": {},
   "source": [
    "So any name we give to a class, variable, function ,etc in python is known as an identifier\n",
    "\n",
    "So below are the rules for writing identifiers\n",
    "\t1) Identifiers can be a combination of letters in lowercase(a to z) or in uppercase(A to Z) or digit(0 to 9) or                    an underscore(_)\n",
    "\t2) An identifier can only start with a letter or an underscore and it can not start with a digit\n",
    "\t3) We can not use keywords as identifiers\n"
   ]
  },
  {
   "cell_type": "code",
   "execution_count": 3,
   "id": "5617cfa5",
   "metadata": {},
   "outputs": [],
   "source": [
    "a_1=1 #valid\n",
    "b_2=2 #valid\n",
    "_c=3  #valid"
   ]
  },
  {
   "cell_type": "code",
   "execution_count": 13,
   "id": "6cf3b695",
   "metadata": {},
   "outputs": [
    {
     "ename": "SyntaxError",
     "evalue": "invalid decimal literal (1808513864.py, line 1)",
     "output_type": "error",
     "traceback": [
      "\u001b[1;36m  Input \u001b[1;32mIn [13]\u001b[1;36m\u001b[0m\n\u001b[1;33m    1_a=1 #invalid\u001b[0m\n\u001b[1;37m     ^\u001b[0m\n\u001b[1;31mSyntaxError\u001b[0m\u001b[1;31m:\u001b[0m invalid decimal literal\n"
     ]
    }
   ],
   "source": [
    "1_a=1 #invalid\n",
    "2_b=2 #invalid\n",
    "3_=3  #invalid\n"
   ]
  },
  {
   "cell_type": "code",
   "execution_count": 6,
   "id": "77c511b3",
   "metadata": {},
   "outputs": [
    {
     "ename": "SyntaxError",
     "evalue": "invalid syntax (2589573702.py, line 1)",
     "output_type": "error",
     "traceback": [
      "\u001b[1;36m  Input \u001b[1;32mIn [6]\u001b[1;36m\u001b[0m\n\u001b[1;33m    and = 1\u001b[0m\n\u001b[1;37m    ^\u001b[0m\n\u001b[1;31mSyntaxError\u001b[0m\u001b[1;31m:\u001b[0m invalid syntax\n"
     ]
    }
   ],
   "source": [
    "and = 1 #invalid"
   ]
  },
  {
   "cell_type": "code",
   "execution_count": 10,
   "id": "ba4e52bc",
   "metadata": {},
   "outputs": [
    {
     "ename": "SyntaxError",
     "evalue": "invalid syntax. Maybe you meant '==' or ':=' instead of '='? (2945806729.py, line 1)",
     "output_type": "error",
     "traceback": [
      "\u001b[1;36m  Input \u001b[1;32mIn [10]\u001b[1;36m\u001b[0m\n\u001b[1;33m    @a=1 #invalid\u001b[0m\n\u001b[1;37m     ^\u001b[0m\n\u001b[1;31mSyntaxError\u001b[0m\u001b[1;31m:\u001b[0m invalid syntax. Maybe you meant '==' or ':=' instead of '='?\n"
     ]
    }
   ],
   "source": [
    "@a=1 #invalid"
   ]
  },
  {
   "cell_type": "raw",
   "id": "da9f34d0",
   "metadata": {},
   "source": [
    "we can not use special characters as !,@,#,$,%,etc as identifiers"
   ]
  }
 ],
 "metadata": {
  "kernelspec": {
   "display_name": "Python 3 (ipykernel)",
   "language": "python",
   "name": "python3"
  },
  "language_info": {
   "codemirror_mode": {
    "name": "ipython",
    "version": 3
   },
   "file_extension": ".py",
   "mimetype": "text/x-python",
   "name": "python",
   "nbconvert_exporter": "python",
   "pygments_lexer": "ipython3",
   "version": "3.10.4"
  }
 },
 "nbformat": 4,
 "nbformat_minor": 5
}
